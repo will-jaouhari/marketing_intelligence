{
 "cells": [
  {
   "cell_type": "markdown",
   "metadata": {},
   "source": [
    "# Assignment 2: Secondary Data\n",
    "The objective of this assignment is to give you experience with working with secondary data.  This notebook defaults to Python 3, as R is ill-suited to string manipulaiton, which is especially important for Task 6.  Some cells can be run in R, however, as shown in Task 5.\n",
    "\n",
    "*Note: It may be useful to read through the whole file before starting with the tasks.*"
   ]
  },
  {
   "cell_type": "markdown",
   "metadata": {},
   "source": [
    "## Filtering to find competitors\n",
    "**Task 1:** Write a function `filter_products_raw` that takes one argument (`key_phrase`) and returns a list of strings; these strings should be all the lines in the `/data/Assignment-2/products.json` file which contain the specified key phrase."
   ]
  },
  {
   "cell_type": "code",
   "execution_count": 1,
   "metadata": {},
   "outputs": [],
   "source": [
    "import json\n",
    "data = open(\"/data/Assignment-2/products.json\",\"r\")\n",
    "file = data.readlines()"
   ]
  },
  {
   "cell_type": "code",
   "execution_count": 12,
   "metadata": {},
   "outputs": [],
   "source": [
    "def filter_products_raw(key_phrase):\n",
    "    string=list()\n",
    "    for x in file:\n",
    "        if key_phrase in x:\n",
    "            string.append(x)\n",
    "    return string"
   ]
  },
  {
   "cell_type": "markdown",
   "metadata": {},
   "source": [
    "**Task 2:** Using the function you just wrote, try filtering the products in `products.json` by different key words or phrases.  Print out the total number of products that match the key phrase.  Also print out the first three products that match the key phrase.  Use this technique to find a collection of products that would be in competition with the product your team is exploring."
   ]
  },
  {
   "cell_type": "code",
   "execution_count": 56,
   "metadata": {},
   "outputs": [
    {
     "name": "stdout",
     "output_type": "stream",
     "text": [
      "Total number of products with 'ipad': 15\n"
     ]
    }
   ],
   "source": [
    "print(\"Total number of products with 'ipad': \"+ str(len(filter_products_raw('smartpen'))))"
   ]
  },
  {
   "cell_type": "code",
   "execution_count": 70,
   "metadata": {},
   "outputs": [
    {
     "name": "stdout",
     "output_type": "stream",
     "text": [
      "['{\\'asin\\': \\'B001AAOZHI\\', \\'categories\\': [[\\'Electronics\\', \\'Portable Audio & Video\\', \\'Digital Voice Recorders\\']], \\'description\\': \\'From the ManufacturerCapture EverythingThe Pulse smartpen records audio and links it to what you write. Missed something? Tap on your notesNo Need to Lug the LaptopThe Pulse smartpen automatically captures everything as you write and draw. Transfer your notes to your computer, organize them, and even search for words within your notes. Find what you want in seconds.Share Your NotesTransform your notes and audio into interactive movies. Upload your creations online for everyone to see, hear and play.What You GetThe Pulse smartpen (1.3 ounces, anodized aluminum housing)1 GB of memory (actual user available memory will be less)Livescribe Desktop software (download)3-D Recording Headset100 sheet dot paper college-ruled notebookUSB mobile charging cradleSmartpen case2 black fine point ink cartridgesDemo card and interactive stickersInteractive Getting Started GuideWhat You NeedWindows XP&trade; 32-bit SP2 or higher, Windows Vista&trade; 32 or 64-bit operating system, or Intel Mac with Mac OS X 10.5.5 or newer600MHz CPU or higher300 MB minimum free disk spaceAvailable USB portInternet connectionThe Pulse smartpen works only with Livescribe dot paper.Warranty InformationInternational Limited Warranty.Livescribe warrants the Pulse smartpen to be free from defects in materials and workmanship under normal use for a period of ninety (90) days from the date of original direct or retail purchase. This warranty is void if the product has been damaged by accident or unreasonable use, immersion in water, neglect, abuse, improper maintenance, or other causes not arising out of defects in workmanship or materials of the product. All warranty claims are subject to: (1) you notifying Livescribe of the warranty claim within the warranty period, (2) Livescribe verifying the existence of a defect in the product and (3) receipt of valid proof of your purchase and the date of your purchase. Your exclusive remedy shall be, at Livescribe\\\\\\'s option, to have it repaired or receive a replacement Pulse smartpen. All shipping costs, both to Livescribe and back to the user/owner must be prepaid by the user/owner. Before returning the Pulse smartpen, please contact the Livescribe Customer Service Department for instructions.In the event that a product under warranty is repaired or replaced, the replacement will be covered under the original warranty or for 30 days, whichever is longer. Repair or replacement is your exclusive remedy, and Livescribe&rsquo;s exclusive liability, under this warranty. The limited warranty set forth herein is the only warranty made to you and is provided in lieu of any other warranties (if any) created by any documentation or packaging. This limited warranty gives you specific legal rights.Disclaimer of Warranties.You expressly acknowledge and agree that use of the Livescribe desktop software, Pulse smartpen and other products and services is at your sole risk and that the entire risk as to satisfactory quality, performance, accuracy and effort is with you. Except for the limited warranty set forth above and to the maximumExtent permitted by applicable law, the Livescribe desktop software, Pulse smartpen, products and services are provided \"as is\", with all faults and without warranty of any kind, and Livescribe and Livescribe\\\\\\'s licensors (collectively referred to as \"Livescribe\") hereby disclaim all other warranties and representations, either express, implied or statutory, including, but not limited to, the implied warranties of merchantability, of satisfactory quality, of fitness for a particular purpose, of accuracy, of quiet enjoyment, and non-infringement of third party rights. Livescribe does not warrant against interference with your enjoyment of the Livescribe desktop software, Pulse smartpen, products or services, that the functions contained in the Livescribe desktop software, Pulse smartpen, products or services will meet your requirements, that the operation of the Livescribe desktop software, Pulse smartpen or services will be uninterrupted or error-free, or that defects in the Livescribe desktop software, Pulse smartpen or services will be corrected. No oral or written information or advice given by Livescribe or any Livescribe authorized representative shall create a warranty. Should the Livescribe desktop software, Pulse smartpen, or services prove defective, you assume the entire cost of all necessary servicing, repair or correction.Limitation of Liability.To the extent not prohibited by law, in no event shall Livescribe be liable for personal injury, or any incidental, special, indirect or consequential damages whatsoever, including, without limitation, damages for loss of profits, loss of data, business interruption or any other commercial damages or losses, arising out of or related to your use or inability to use the Livescribe desktop software, Pulse smartpen, or services, however caused, regardless of the theory of liability (contract, tort or otherwise) and even if Livescribe has been advised of the possibility of such damages.In no event shall Livescribe\\\\\\'s total liability to you for all damages (other than as may be required by applicable law in cases involving personal injury) exceed the amount of fifty dollars ($50.00). The foregoing limitations will apply even if the above stated remedy fails of its essential purpose.Paper &amp; Accessory ProductsThe warranty is 30 days. The customer would have to pay shipping both ways for defective product.Customer Support InformationPhone 1-877-SCRIBE9 (1-877-727-4239): Mon.-Sun., 7am-7pm PSTChat via www.livescribe.com/support: Mon.-Fri., 9am-5pm PSTEmail cs@livescribe.com: 7 days a weekSupport LanguagesAt this time, Livescribe only offers support in English.\\', \\'title\\': \\'Livescribe 1 GB Pulse Smartpen (APA-00001)\\', \\'price\\': 289.99, \\'salesRank\\': {\\'Electronics\\': 58838}, \\'imUrl\\': \\'http://ecx.images-amazon.com/images/I/41N8dbsDUHL._SY300_.jpg\\', \\'related\\': {\\'also_viewed\\': [\\'B00524DLZ0\\', \\'B002DJV83Y\\', \\'B009FU2AYU\\', \\'B001AAN4PW\\', \\'B00FG38L16\\', \\'B00FONJDZ6\\', \\'B009PK2T00\\', \\'B002DJTMSW\\', \\'1432740660\\', \\'B009FU2AW2\\', \\'B002M3HO0M\\', \\'B003TO56F8\\', \\'B006WAPM78\\', \\'B001AALJ1I\\', \\'B00GMEL0UM\\', \\'B005KPUYVA\\', \\'B002DJTMR8\\', \\'B00GMEL0TI\\', \\'B001AAOZV4\\', \\'B00CEKW8WM\\', \\'0972169504\\', \\'B00HETUB54\\', \\'B00264GKXO\\', \\'B003TO56FI\\'], \\'buy_after_viewing\\': [\\'B001AAOZV4\\', \\'B001AALJ1I\\', \\'B00524DLZ0\\', \\'B003TO56F8\\']}}\\n', '{\\'asin\\': \\'B001AAN4PW\\', \\'categories\\': [[\\'Electronics\\', \\'Portable Audio & Video\\', \\'Digital Voice Recorders\\']], \\'description\\': \\'From the ManufacturerCapture EverythingThe Pulse smartpen records audio and links it what you write. Missed something? Tap on your notes or drawings with the tip of your Pulse smartpen to hear what was said while you were writing.No Need to Lug the LaptopThe Pulse smartpen automatically captures everything as you write and draw. Transfer your notes to your computer, organize them, and even search for words within your notes. Find what you want in seconds.Share Your NotesTransform your notes and audio into interactive movies. Upload your creations online for everyone to see, hear and play.What You GetThe Pulse smartpen (1.3 ounces, anodized aluminum housing)2 GB of memory (actual user available memory will be less)Livescribe Desktop software (download)3-D Recording Headset100 sheet dot paper college-ruled notebookUSB mobile charging cradleSmartpen case3 black fine point ink cartridges + 1 stylus cartridgeDemo card and interactive stickersInteractive Getting Started GuideWhat You NeedWindows XP&trade; 32-bit SP2 or higher, Windows Vista&trade; 32 or 64-bit operating system, or Intel Mac with Mac OS X 10.5.5 or newer600MHz CPU or higher300 MB minimum free disk spaceAvailable USB portInternet connectionThe Pulse smartpen works only with Livescribe dot paper.Warranty InformationInternational Limited Warranty. Livescribe warrants the Pulse smartpen to be free from defects in materials and workmanship under normal use for a period of ninety (90) days from the date of original direct or retail purchase. This warranty is void if the product has been damaged by accident or unreasonable use, immersion in water, neglect, abuse, improper maintenance, or other causes not arising out of defects in workmanship or materials of the product. All warranty claims are subject to: (1) you notifying Livescribe of the warranty claim within the warranty period, (2) Livescribe verifying the existence of a defect in the product and (3) receipt of valid proof of your purchase and the date of your purchase. Your exclusive remedy shall be, at Livescribe\\\\\\'s option, to have it repaired or receive a replacement Pulse smartpen. All shipping costs, both to Livescribe and back to the user/owner must be prepaid by the user/owner. Before returning the Pulse smartpen, please contact the Livescribe Customer Service Department for instructions.In the event that a product under warranty is repaired or replaced, the replacement will be covered under the original warranty or for 30 days, whichever is longer. Repair or replacement is your exclusive remedy, and Livescribe&rsquo;s exclusive liability, under this warranty. The limited warranty set forth herein is the only warranty made to you and is provided in lieu of any other warranties (if any) created by any documentation or packaging. This limited warranty gives you specific legal rights.Disclaimer of Warranties.You expressly acknowledge and agree that use of the Livescribe desktop software, Pulse smartpen and other products and services is at your sole risk and that the entire risk as to satisfactory quality, performance, accuracy and effort is with you. Except for the limited warranty set forth above and to the maximumExtent permitted by applicable law, the Livescribe desktop software, Pulse smartpen, products and services are provided \"as is\", with all faults and without warranty of any kind, and Livescribe and Livescribe\\\\\\'s licensors (collectively referred to as \"Livescribe\") hereby disclaim all other warranties and representations, either express, implied or statutory, including, but not limited to, the implied warranties of merchantability, of satisfactory quality, of fitness for a particular purpose, of accuracy, of quiet enjoyment, and non-infringement of third party rights. Livescribe does not warrant against interference with your enjoyment of the Livescribe desktop software, Pulse smartpen, products or services, that the functions contained in the Livescribe desktop software, Pulse smartpen, products or services will meet your requirements, that the operation of the Livescribe desktop software, Pulse smartpen or services will be uninterrupted or error-free, or that defects in the Livescribe desktop software, Pulse smartpen or services will be corrected. No oral or written information or advice given by Livescribe or any Livescribe authorized representative shall create a warranty. Should the Livescribe desktop software, Pulse smartpen, or services prove defective, you assume the entire cost of all necessary servicing, repair or correction.Limitation of Liability.To the extent not prohibited by law, in no event shall Livescribe be liable for personal injury, or any incidental, special, indirect or consequential damages whatsoever, including, without limitation, damages for loss of profits, loss of data, business interruption or any other commercial damages or losses, arising out of or related to your use or inability to use the Livescribe desktop software, Pulse smartpen, or services, however caused, regardless of the theory of liability (contract, tort or otherwise) and even if Livescribe has been advised of the possibility of such damages.In no event shall Livescribe\\\\\\'s total liability to you for all damages (other than as may be required by applicable law in cases involving personal injury) exceed the amount of fifty dollars ($50.00). The foregoing limitations will apply even if the above stated remedy fails of its essential purpose.Paper &amp; Accessory ProductsThe warranty is 30 days. The customer would have to pay shipping both ways for defective product.Customer Support InformationPhone 1-877-SCRIBE9 (1-877-727-4239): Mon.-Sun., 7am-7pm PSTChat via www.livescribe.com/support: Mon.-Fri., 9am-5pm PSTEmail cs@livescribe.com: 7 days a weekSupport LanguagesAt this time, Livescribe only offers support in English.\\', \\'title\\': \\'Livescribe 2GB Pulse Smartpen (APA-00002)\\', \\'price\\': 289.99, \\'salesRank\\': {\\'Electronics\\': 49899}, \\'imUrl\\': \\'http://ecx.images-amazon.com/images/I/41N8dbsDUHL._SY300_.jpg\\', \\'related\\': {\\'also_bought\\': [\\'B001AAOZV4\\', \\'B001AALJ1I\\', \\'B001R4I74E\\', \\'B003TO56F8\\', \\'B002M3HO0M\\', \\'B00524DLZ0\\', \\'B002DJTMSW\\'], \\'buy_after_viewing\\': [\\'B00524DLZ0\\', \\'B001AAOZV4\\', \\'B001AALJ1I\\', \\'B009FU2AYU\\']}}\\n', '{\\'asin\\': \\'B0039MZBFK\\', \\'description\\': \"Sometimes when you\\'re taking notes, it can be hard for your pen to keep up with the person speaking. The Pulse smartpen helps eliminate that worry by recording audio and linking it to what you write so you don\\'t miss a word of any important meeting or class. The instant replay function lets you tap the pen on your notes to play back the last words said, and the smartpen\\'s 4GB memory holds more than 400 hours of audio. When your meeting or class is over, the smartpen makes it simple to transfer handwritten notes to your computer for easy access and organization.\\\\n\\\\nThis Pro-Pack comes with all the essentials you need to get started using the Pulse smartpen. In addition to the 4GB black Pulse smartpen, the set includes a 3D recording headset for more precise recording or private listening, a USB/AC charging cradle for charging or syncing the smartpen, a leather case for convenient portability and transcription software that helps you convert your handwritten notes into digital text. You\\'ll also receive a starter dot paper notebook, one ink cartridge refill and 500MB of online storage.\", \\'title\\': \\'Livescribe Pulse Smartpen 4GB Pro-Pack (Black)\\', \\'price\\': 117.57, \\'imUrl\\': \\'http://ecx.images-amazon.com/images/I/419M-ropAOL._SX300_.jpg\\', \\'related\\': {\\'also_viewed\\': [\\'B00524DLZ0\\', \\'B001AAOZV4\\', \\'B001AALJ1I\\', \\'B003TO56EY\\', \\'B00FONJDZ6\\', \\'B009PK2T00\\', \\'B003RAPAKK\\', \\'B009FU2AW2\\', \\'B009FU2AYU\\', \\'B002DJTMR8\\', \\'B00FG38L16\\', \\'B003TO56FI\\', \\'B001AALJ2M\\', \\'B003TO56F8\\', \\'B002DJV83Y\\', \\'B001R4I74E\\', \\'B002DJTMSW\\', \\'B001AAN4PW\\', \\'B002M3HO0M\\', \\'B003UNL14S\\', \\'B008KML220\\', \\'B001AAOZNW\\', \\'B00EFN1CH8\\'], \\'buy_after_viewing\\': [\\'B00524DLZ0\\', \\'B002M3HO0M\\', \\'B001AAOZV4\\', \\'B001AALJ1I\\']}, \\'categories\\': [[\\'Electronics\\', \\'Computers & Accessories\\', \\'Cables & Accessories\\', \\'Input Devices\\', \\'Touch Pads\\']]}\\n', \"{'asin': 'B003TO56FI', 'related': {'also_bought': ['B001AAOZV4', 'B001AALJ1I', 'B00264GKXO', 'B001AALJ2M', 'B002M3HO0M', 'B00524DLZ0', 'B004H0X3YE', 'B007JUS330', 'B003TO56F8', 'B009PK2T00', 'B001R4I74E', 'B003TO56EY', 'B009FU2AW2', 'B009FU2AYU', 'B003RAPAKK', 'B001AAOZNW', 'B00GKINXTG', 'B00FONJDZ6', 'B00FG38L16', 'B00EDVKEAI', 'B004WKKRTS', 'B001AAOZPU', 'B00FIOTK04', 'B009RXD2NI', 'B00FIP6ALU', 'B00GKINXUU', 'B005A0B6KS', 'B002DJTMR8', 'B0050AFFWI', 'B00EDY7ARA', 'B001AALJ9U', 'B00HMD8ABY', 'B002GYVTCG', 'B004MF1E7M', 'B00DQEB1V4', 'B003UNL14S', 'B00HMD5P4Y', '8866132969', 'B00HX46XQG', 'B000XLZOJS', 'B000LZ3E2K', '1118107381', 'B008KML220', '1118206134', 'B00931I08G', 'B001T82TX8', '0743235479', 'B002VPE1QG', 'B001D79A96', '0691037388'], 'bought_together': ['B001AAOZV4', 'B001AALJ1I'], 'buy_after_viewing': ['B001AAOZV4', 'B001AALJ1I', 'B003TO56F8', 'B002M3HO0M']}, 'title': 'Livescribe Universal Premium Case', 'price': 19.5, 'salesRank': {'Cell Phones & Accessories': 30374}, 'imUrl': 'http://ecx.images-amazon.com/images/I/31YWYgLJ4uL._SY300_.jpg', 'brand': 'Livescribe', 'categories': [['Electronics', 'Computers & Accessories', 'Cables & Accessories', 'Input Devices', 'Digital Pens']], 'description': 'Keep your smartpen safe and protected from nicks and scratches with this premium leather case. The Universal case features a protective flap that opens easily and contains a hidden magnet to secure your Livescribe smartpen. A detachable clip helps keep your smartpen attached to your bag, shirt, or dot paper notebook. Fits both Echo and Pulse smartpens.'}\\n\", \"{'asin': 'B003UNL14S', 'description': 'Capture Everything: The Echo smartpen records audio and links it what you write. Missed something Tap on your notes or drawings with the tip of your Pulse smartpen to hear what was said while you were writing.No Need to Lug the LaptopThe Echo smartpen automatically captures everything as you write and draw. Transfer your notes to your computer, organize them, and even search for words within your notes. Find what you want in seconds.Share Your NotesTransform your notes and audio into interactive movies. Upload your creations online for everyone to see, hear and play.What You Get. The Echo smartpen. 8 GB of memory (actual user available memory will be less). Livescribe Desktop software (download). 50 sheet dot paper lined notebook. Micro USB Cable. 2 Pen Caps. Black Fine Point Ink Cartridge Refill. Interactive Getting Started Guide. Tips & Tricks GuideWhat You Need. Windows XP 32-bit SP2 or higher, Windows Vista 32 or 64-bit operating system, or Intel Mac with Mac OS X 10.5.5 or newer. 600MHz CPU or higher. 300 MB minimum free disk space. Available USB port. Internet connectionThe Echo smartpen works only with Livescribe dot paper.', 'title': 'Livescribe APX-00006 8GB Echo Smartpen EFIGS Voice Recorder', 'price': 199.63, 'imUrl': 'http://ecx.images-amazon.com/images/I/310kjB2jEpL._SY300_.jpg', 'related': {'also_bought': ['B001AAOZV4', 'B001AALJ1I', 'B002M3HO0M', 'B003TO56EY', 'B003TO56F8', 'B007JUS330', 'B001AALJ2M', 'B001R4I74E', 'B00524DLZ0', 'B003TO56FI', 'B001AAOZNW', 'B009PK2T00', 'B004H0X3YE', 'B003RAPAKK', 'B004MF1E7M', 'B00BR0RJB0'], 'buy_after_viewing': ['B00524DLZ0', 'B001AAOZV4', 'B001AALJ1I', 'B009PK2T00']}, 'categories': [['Electronics', 'Computers & Accessories', 'Cables & Accessories', 'Input Devices', 'Digital Pens']]}\\n\", '{\\'asin\\': \\'B004MF1E7M\\', \\'description\\': \"The American Heritage(R) English Dictionary, Fourth Edition at your fingertips. This easy-to-use dictionary contains thousands of English word definitions and pronunciations. Simply write the English word to see the definition on the smartpen\\'s OLED display. Hear pronunciations, learn synonyms, regional notes, etymologies, and much more.\", \\'title\\': \\'Livescribe English Dictionary Smartpen Application (PAP-00003-AMZ)\\', \\'price\\': 4.47, \\'imUrl\\': \\'http://ecx.images-amazon.com/images/I/41cl2noi0LL._SY300_.jpg\\', \\'related\\': {\\'also_bought\\': [\\'B001AAOZV4\\', \\'B001AALJ1I\\', \\'B002M3HO0M\\', \\'B001R4I74E\\', \\'B005A0B6KS\\', \\'B00264GKXO\\', \\'B00524DLZ0\\', \\'B003TO56F8\\', \\'B003TO56EY\\', \\'B004H0X3YE\\', \\'B001AAOZNW\\', \\'B009PK2T00\\', \\'B001AALJ2M\\', \\'B003TO56FI\\', \\'B007JUS330\\', \\'B009FU2AW2\\', \\'B001AALJ9U\\', \\'B003UNL14S\\'], \\'buy_after_viewing\\': [\\'B001AAOZV4\\', \\'B002M3HO0M\\', \\'B001AALJ1I\\', \\'B001R4I74E\\']}, \\'categories\\': [[\\'Electronics\\', \\'Computers & Accessories\\', \\'Cables & Accessories\\', \\'Input Devices\\', \\'Digital Pens\\']]}\\n', \"{'asin': 'B0053UEMHO', 'description': 'What You Get in the Bundle :* Livescribe 4GB Echo Smartpen* Livescribe Single Subject Spiral Notebook ANA-00017, 4-Pack, Nos. 1-4* Livescribe ARA-000007 4 Medium Blue and 1 Fine Red Ink Cartridge* The Echo smartpen with 4GB of memory* Livescribe Connect Premium: Includes Connect Basic (Facebook, Evernote, MyLivescribe, your mobile device, and your computer)* plus additional connectors for Email and Google Docs* Livescribe Desktop software for Mac or Windows (download)* 500 MB of personal online storage* Starter dot paper notebook* Micro USB Cable* Interactive Getting Started Guide* Smartpen Tips and Tricks* 2 smartpen caps* 2 ink cartridges', 'title': 'Livescribe 4GB Echo Smartpen Golden Package', 'price': 4.47, 'imUrl': 'http://ecx.images-amazon.com/images/I/51yOjQSF-pL._SX300_.jpg', 'related': {'also_bought': ['B003TO56EY'], 'buy_after_viewing': ['B001AAOZV4', 'B001AALJ1I', 'B00524DLZ0', 'B001R4I74E']}, 'categories': [['Electronics', 'Computers & Accessories', 'Cables & Accessories', 'Input Devices', 'Digital Pens']]}\\n\", \"{'asin': 'B0055UIJHG', 'description': 'What You Get in the Bundle :* Livescribe 8 GB Echo Smartpen* Livescribe A5 Single Grid Notebooks 4pk* Livescribe ARA-000007 4 Medium Blue and 1 Fine Red Ink Cartridge* The Echo smartpen with 8GB of memory* Livescribe Connect Premium: Includes Connect Basic (Facebook, Evernote, MyLivescribe, your mobile device, and your computer)* plus additional connectors for Email and Google Docs* Livescribe Desktop software for Mac or Windows (download)* 500 MB of personal online storage* Starter dot paper notebook* Micro USB Cable* Interactive Getting Started Guide* Smartpen Tips and Tricks* 2 smartpen caps* 2 ink cartridges', 'title': 'Livescribe 8 GB Echo Smartpen Ultra Premium Kit', 'price': 4.47, 'imUrl': 'http://ecx.images-amazon.com/images/I/41IypzYLksL._SX300_.jpg', 'related': {'also_bought': ['B001AAOZV4', 'B003TO56F8', 'B001AALJ1I', 'B003TO56EY', 'B002M3HO0M'], 'buy_after_viewing': ['B001AAOZV4', 'B00524DLZ0', 'B001AALJ1I', 'B003RAPAKK']}, 'categories': [['Electronics', 'Computers & Accessories', 'Cables & Accessories', 'Input Devices', 'Digital Pens']]}\\n\", \"{'asin': 'B005A0B6KS', 'description': 'Use your Echo smartpen as a mouse and turn your dot paper notebooks into an extension of your screen. Once connected to your computer via a micro-USB cable, Echo can be used to mark up slides, presentations, PDFs, documents, and spreadsheets quickly and easily.', 'title': 'Livescribe Paper Tablet Smartpen Application (PAP-00004-AMZ)', 'price': 4.47, 'imUrl': 'http://ecx.images-amazon.com/images/I/51UmCvOb0-L._SY300_.jpg', 'related': {'also_bought': ['B001AAOZV4', 'B004H0X3YE', 'B002M3HO0M', 'B003TO56EY', 'B00264GKXO', 'B001AALJ1I', 'B001R4I74E', 'B003TO56F8', 'B00524DLZ0', 'B007JUS330', 'B001AALJ2M', 'B003TO56FI', 'B009PK2T00', 'B001AAOZNW', 'B004MF1E7M', 'B009FU2AW2', 'B003RAPAKK', 'B009RXD2NI', 'B001AALJ9U', 'B002DJTMR8', 'B009FU2AYU', 'B00FG38L16', 'B00EDVKEAI', 'B001AAOZPU'], 'buy_after_viewing': ['B001AAOZV4', 'B001AALJ1I', 'B002M3HO0M', 'B00524DLZ0']}, 'categories': [['Electronics', 'Computers & Accessories', 'Cables & Accessories', 'Input Devices', 'Digital Pens']]}\\n\", \"{'asin': 'B007JUS330', 'categories': [['Electronics', 'Accessories & Supplies', 'Audio & Video Accessories', 'Headphones']], 'description': 'The Livescribe Echo 3-D Recording Headset is designed for the Echo smartpen. The light-weight earbuds feature embedded microphones, which can record in high quality stereo audio. Ideal for lecture halls, seminars, meetings and conferences. It can precisely record everything around you in 360&#xB0; binaural audio, then listen to your recordings in private. Located in Oakland, California, Livescribe has developed a new low-cost mobile computing platform that enhances productivity, learning, communication and self-expression for anyone that uses pen and paper. The Echo and Pulse smartpens revolutionize the act of writing by recording and linking audio to handwriting, so users never miss a word.', 'title': 'Livescribe Sky/Echo 3D Recording Headset', 'price': 19.59, 'imUrl': 'http://ecx.images-amazon.com/images/I/41aDHKUG91L._SY300_.jpg', 'brand': 'Livescribe', 'related': {'also_bought': ['B001AAOZV4', 'B003TO56EY', 'B001AALJ1I', 'B00524DLZ0', 'B002M3HO0M', 'B003TO56F8', 'B009PK2T00', 'B001R4I74E', 'B001AAOZNW', 'B003TO56FI', 'B004H0X3YE', 'B009FU2AYU', 'B00264GKXO', 'B009FU2AW2', 'B00EDVKEAI', 'B009RXD2NI', 'B001AALJ2M', 'B003RAPAKK', 'B00EDY7ARA', 'B00FIP6ALU', 'B00FIOTK04', 'B001AAOZPU', 'B002DJTMR8', 'B00FG38L16', 'B00FONJDZ6', 'B00GKINXTG', 'B005A0B6KS', 'B004WKKRTS', 'B00GKINXUU', 'B00HMD5P4Y', 'B0050AFFWI', 'B003UNL14S', 'B008NP76FQ', 'B003JLUNMC', 'B00EFMXCRM', 'B00345XP7I', 'B001AALJ9U', 'B00HMD8ABY', 'B00206WJ42', 'B007W7TV6S', 'B008NP76AQ', 'B009RXD1ZM', '1118671252', 'B00DQEB1V4', 'B002GYVTCG', 'B00E8CIGCA', '8866137618', 'B009SPUE72', 'B007CM0BHG', 'B00005ML7Q', 'B00AO1L1RG'], 'bought_together': ['B001AAOZV4', 'B001AALJ1I'], 'buy_after_viewing': ['B001AAOZV4', 'B001AALJ1I', 'B00524DLZ0', 'B002M3HO0M']}}\\n\", \"{'asin': 'B00CGTLOVW', 'categories': [['Electronics', 'Computers & Accessories', 'Cables & Accessories', 'Input Devices', 'Digital Pens']], 'description': 'Your Words. Your Ideas. Any time. Anywhere.Record everything you hear, say, write and draw. Wirelessly sync notes and audio to your personal Evernote account where you can replay, organize, search and share your interactive notes any time and anywhere.Holds up to 200 hours of audio and thousands of pages of notes\\\\nWirelessly syncs notes and audio to your personal Evernote account Seamlessly syncs your smartpen content across any computer or device running Mac OS X, Windows, iOS, AndroidTM and more', 'title': 'Livescribe APX-00012 8GB Sky wifi Propack', 'price': 255.83, 'imUrl': 'http://ecx.images-amazon.com/images/I/31%2BGnvpw6wL._SY300_.jpg', 'brand': 'Livescribe', 'related': {'also_viewed': ['B009PK2T00', 'B001AAOZV4', 'B001AALJ1I', 'B00524DLZ0', 'B009FU2AYU', 'B009FU2AW2', 'B003TO56F8', 'B00FG38L16', 'B00FONJDZ6', 'B003RAPAKK', 'B002M3HO0M', 'B002DJTMSW', 'B00264GKXO', 'B006WAPM78', 'B003TO56EY', 'B001AALJ2M', 'B002DJV83Y'], 'bought_together': ['B002M3HO0M'], 'buy_after_viewing': ['B009PK2T00', 'B001AAOZV4', 'B001AALJ1I', 'B002M3HO0M']}}\\n\", \"{'asin': 'B00CVTL3BS', 'categories': [['Electronics', 'Computers & Accessories', 'Cables & Accessories', 'Input Devices', 'Digital Pens']], 'description': 'Your Words. Your Ideas. Any time. Anywhere.Record everything you hear, say, write and draw. Wirelessly sync notes and audio to your personal Evernote&reg; account where you can replay, organize, search and share your interactive notes any time and anywhere.Holds up to 200 hours of audio and thousands of pages of notesWirelessly syncs notes and audio to your personal Evernote account Seamlessly syncs your smartpen content across any computer or device running Mac OS X&reg;, Windows&reg;, iOS&reg;, Android&trade; and moreIncludes exclusive Livescribe plan for Evernote, with 500MB additional monthly upload capacity for smartpen notes and audio', 'title': 'Livescribe 2GB Sky Wifi Smartpen - Dot Paper - Mac PC', 'price': 183.21, 'imUrl': 'http://ecx.images-amazon.com/images/I/21Dq4TINxVL.jpg', 'brand': 'Livescribe', 'related': {'also_viewed': ['B00FG38L16', 'B00524DLZ0', 'B009FU2AYU', 'B00FONJDZ6']}}\\n\", '{\\'asin\\': \\'B00CX49V38\\', \\'description\\': \"Attach the e-pens base unit to the 30 pin dock port (does not work with the newer lightning port) then write and draw freely on the iPad\\'s screen. Then convert your handwritten notes to digital text on your iPad.\\\\n\\\\nThis digital pen does not work on newer iPad\\'s with lightning ports.\", \\'title\\': \\'e-pens mobile notes for iPad | EPN007-EN | smart pen - digital pen - smartpen\\', \\'price\\': 111.0, \\'imUrl\\': \\'http://ecx.images-amazon.com/images/I/41uBr2aT3iL._SY300_.jpg\\', \\'related\\': {\\'also_viewed\\': [\\'B00524DLZ0\\', \\'B00AO1L1RG\\', \\'B00FONJDZ6\\', \\'B009PK2T00\\', \\'B00DQEB1V4\\', \\'B00931K1QK\\', \\'B00FG38L16\\', \\'B009FU2AW2\\', \\'B009FU2AYU\\', \\'B00KFBWJSU\\', \\'B00CX49VQU\\', \\'B000LD25MC\\', \\'B008KML220\\', \\'B00200JXGA\\', \\'B001AAN4PW\\', \\'B004QOERI2\\', \\'B0000AC88K\\', \\'B00CA65AR0\\', \\'B006WAPM78\\', \\'B00HZQLMCM\\', \\'B00931DHKM\\', \\'B00931KY8U\\', \\'B0057FWWZ4\\', \\'B00FU5MZI0\\', \\'B003JZNZR8\\', \\'B002ZE4TDI\\', \\'B00CA67PVO\\', \\'B0064REJ3C\\', \\'B00AFPR68E\\', \\'B00EN27U9U\\']}, \\'categories\\': [[\\'Electronics\\', \\'Computers & Accessories\\', \\'Cables & Accessories\\', \\'Input Devices\\', \\'Digital Pens\\']]}\\n', \"{'asin': 'B00GKINXTG', 'related': {'also_bought': ['B00FG38L16', 'B00FONJDZ6', 'B002M3HO0M', 'B00GKINXUU', 'B001AALJ1I', 'B001AALJ2M', 'B003TO56F8', 'B00264GKXO', 'B004H0X3YE', 'B001R4I74E', 'B001AAOZNW', 'B001AAOZV4', 'B003TO56FI', 'B004WKKRTS', 'B003TO56EY', 'B00HMD5P4Y', 'B00HMD8ABY', 'B001AAOZPU', 'B009FU2AYU', 'B00524DLZ0', 'B00FIP6ALU', 'B00EDVKEAI', 'B00FIOTK04', 'B009PK2T00', 'B007JUS330', 'B00DQEB1V4', 'B002GYVTCG', 'B009FU2AW2', 'B001KPR7YG', 'B00HX46XQG', 'B00374GRXK', 'B00E6AXZHU', 'B00IL7BJMM', 'B001AALJ9U', 'B0076Z3GMG', 'B00IP93PV4', 'B00AO1L1RG', 'B00CPS6VTO', 'B00HW7CYIU', 'B00931KY8U', 'B00BKEQBI0', 'B00LTS25UA', 'B006FFNLIW', 'B008NP76FQ', 'B008CXFM64', 'B00ATZ9QMO', 'B00FRZSBQI', 'B00EOE4G4E', 'B009VL9YGU', 'B00JP12300', 'B0042ESTSK', 'B00IBDOB5I', 'B004MMEHKG', 'B00005ML7Q', 'B00B5RGAWY', 'B00BWHILCY'], 'bought_together': ['B001AALJ1I'], 'buy_after_viewing': ['B00GKINXUU', 'B001AAOZV4', 'B001AALJ1I', 'B002M3HO0M']}, 'title': 'Livescribe 3 Smartpen Ink Cartridge, Medium Black (8-pack)', 'price': 10.68, 'salesRank': {}, 'imUrl': 'http://ecx.images-amazon.com/images/I/31Snq9f4YYL._SX300_.jpg', 'brand': 'Livescribe', 'categories': [['Electronics', 'Computers & Accessories', 'Cables & Accessories', 'Input Devices', 'Digital Pens']], 'description': 'Enjoy the precision of writing with genuine Swiss-made Livescribe 3 ink cartridges. The package includes 8 replacement cartridges, black in color with a medium ballpoint. These ink refills will only work with Livescribe 3 smartpens.'}\\n\", \"{'asin': 'B00GKINXUU', 'related': {'also_bought': ['B00FG38L16', 'B00FONJDZ6', 'B00GKINXTG', 'B001AALJ2M', 'B002M3HO0M', 'B001AALJ1I', 'B004H0X3YE', 'B003TO56F8', 'B00264GKXO', 'B001R4I74E', 'B00EDVKEAI', 'B001AAOZV4', 'B00HMD8ABY', 'B001AAOZNW', 'B001AAOZPU', 'B004WKKRTS', 'B003TO56FI', 'B00DQEB1V4', 'B00EDY7ARA', 'B003TO56EY', 'B009FU2AYU', 'B00HX46XQG', 'B007JUS330', 'B00FIP6ALU', 'B00HMD5P4Y', '8867323938', 'B00GOJSFQC', 'B0010WJAFI', 'B00JSQV44S', 'B009PK2T00', 'B00524DLZ0', '8867323954', 'B00EI8SS4U', 'B00FIOTK04', 'B002GYVTCG', 'B00G2UD2PM', 'B00J3LU1FG', 'B00AO1L1RG', 'B008KML220', 'B0010WR1C2', 'B001AALJ9U', 'B001PH7YJM', 'B001KPR7YG', 'B00H4BBWGY', 'B00CX5P8FC', 'B00DVH62J2', 'B00GZMLCWC', 'B002Q1INDM', 'B00EPGH86O', 'B00ATZ9QMO', 'B009FU2AW2', 'B00EZ9XHSO', 'B00HWMP6CQ', 'B00DR9V1T0', 'B00IBDOB5I', 'B00931K1QK', 'B008ALAHA4', 'B002I9QPAU', 'B0053TRH2M', 'B00BJGNRR2', 'B008ALA6DW', 'B0006VGZFC', 'B002VPE1QG', 'B003ODFSWA', 'B002G4DHGM', 'B00LIKOFDE'], 'bought_together': ['B00FONJDZ6', 'B00GKINXTG'], 'buy_after_viewing': ['B00GKINXTG', 'B001AAOZV4', 'B001AALJ1I', 'B002M3HO0M']}, 'title': 'Livescribe 3 Smartpen Ink Cartridge, Medium Blue (8-pack)', 'price': 10.68, 'salesRank': {}, 'imUrl': 'http://ecx.images-amazon.com/images/I/31Gov1C-BTL._SX300_.jpg', 'brand': 'Livescribe', 'categories': [['Electronics', 'Computers & Accessories', 'Cables & Accessories', 'Input Devices', 'Digital Pens']], 'description': 'Enjoy the precision of writing with genuine Swiss-made Livescribe 3 ink cartridges. The package includes 8 replacement cartridges, black in color with a medium ballpoint. These ink refills will only work with Livescribe 3 smartpens.'}\\n\"]\n"
     ]
    }
   ],
   "source": [
    "print(filter_products_raw('smartpen'))"
   ]
  },
  {
   "cell_type": "markdown",
   "metadata": {},
   "source": [
    "**Task 3:** With the `filter_products_raw` function as a starting point, create a new function `filter_products_df` that returns a pandas data frame with two columns: `product.id` and `price`.  \n",
    "\n",
    "*Hints:*\n",
    "\n",
    "*1) The product id isn't called that; you need to figure out what it's called in the documentation.*\n",
    "\n",
    "*2) The json data files aren't proper json for multiple reasons; consider using the `demjson` library.*\n",
    "\n",
    "*3) You may need to ignore products for which prices are missing.*"
   ]
  },
  {
   "cell_type": "code",
   "execution_count": 80,
   "metadata": {},
   "outputs": [],
   "source": [
    "import demjson\n",
    "import pandas as pd\n",
    "import numpy as np\n",
    "def filter_products_df(key_phrase):\n",
    "    df = pd.DataFrame({\"product.id\": [],\"price\":[]})\n",
    "    raw = filter_products_raw(key_phrase)\n",
    "    for line in raw:\n",
    "        if line.count('price') > 0 :\n",
    "            products = demjson.decode(line)\n",
    "            d = pd.DataFrame({\"product.id\": products.get('asin') ,\"price\": products.get('price')},index=[0])\n",
    "            df = df.append(d, ignore_index=True)\n",
    "    return df"
   ]
  },
  {
   "cell_type": "markdown",
   "metadata": {},
   "source": [
    "**Task 4:** Using the new `filter_products_df` function, filter the products by the key phrase you identified in Task 2, resulting in a data frame of product ids with their corresponding prices; call this data frame variable `products`."
   ]
  },
  {
   "cell_type": "code",
   "execution_count": 81,
   "metadata": {},
   "outputs": [
    {
     "data": {
      "text/html": [
       "<div>\n",
       "<style scoped>\n",
       "    .dataframe tbody tr th:only-of-type {\n",
       "        vertical-align: middle;\n",
       "    }\n",
       "\n",
       "    .dataframe tbody tr th {\n",
       "        vertical-align: top;\n",
       "    }\n",
       "\n",
       "    .dataframe thead th {\n",
       "        text-align: right;\n",
       "    }\n",
       "</style>\n",
       "<table border=\"1\" class=\"dataframe\">\n",
       "  <thead>\n",
       "    <tr style=\"text-align: right;\">\n",
       "      <th></th>\n",
       "      <th>product.id</th>\n",
       "      <th>price</th>\n",
       "    </tr>\n",
       "  </thead>\n",
       "  <tbody>\n",
       "    <tr>\n",
       "      <td>0</td>\n",
       "      <td>B001AAOZHI</td>\n",
       "      <td>289.99</td>\n",
       "    </tr>\n",
       "    <tr>\n",
       "      <td>1</td>\n",
       "      <td>B001AAN4PW</td>\n",
       "      <td>289.99</td>\n",
       "    </tr>\n",
       "    <tr>\n",
       "      <td>2</td>\n",
       "      <td>B0039MZBFK</td>\n",
       "      <td>117.57</td>\n",
       "    </tr>\n",
       "    <tr>\n",
       "      <td>3</td>\n",
       "      <td>B003TO56FI</td>\n",
       "      <td>19.50</td>\n",
       "    </tr>\n",
       "    <tr>\n",
       "      <td>4</td>\n",
       "      <td>B003UNL14S</td>\n",
       "      <td>199.63</td>\n",
       "    </tr>\n",
       "    <tr>\n",
       "      <td>5</td>\n",
       "      <td>B004MF1E7M</td>\n",
       "      <td>4.47</td>\n",
       "    </tr>\n",
       "    <tr>\n",
       "      <td>6</td>\n",
       "      <td>B0053UEMHO</td>\n",
       "      <td>4.47</td>\n",
       "    </tr>\n",
       "    <tr>\n",
       "      <td>7</td>\n",
       "      <td>B0055UIJHG</td>\n",
       "      <td>4.47</td>\n",
       "    </tr>\n",
       "    <tr>\n",
       "      <td>8</td>\n",
       "      <td>B005A0B6KS</td>\n",
       "      <td>4.47</td>\n",
       "    </tr>\n",
       "    <tr>\n",
       "      <td>9</td>\n",
       "      <td>B007JUS330</td>\n",
       "      <td>19.59</td>\n",
       "    </tr>\n",
       "    <tr>\n",
       "      <td>10</td>\n",
       "      <td>B00CGTLOVW</td>\n",
       "      <td>255.83</td>\n",
       "    </tr>\n",
       "    <tr>\n",
       "      <td>11</td>\n",
       "      <td>B00CVTL3BS</td>\n",
       "      <td>183.21</td>\n",
       "    </tr>\n",
       "    <tr>\n",
       "      <td>12</td>\n",
       "      <td>B00CX49V38</td>\n",
       "      <td>111.00</td>\n",
       "    </tr>\n",
       "    <tr>\n",
       "      <td>13</td>\n",
       "      <td>B00GKINXTG</td>\n",
       "      <td>10.68</td>\n",
       "    </tr>\n",
       "    <tr>\n",
       "      <td>14</td>\n",
       "      <td>B00GKINXUU</td>\n",
       "      <td>10.68</td>\n",
       "    </tr>\n",
       "  </tbody>\n",
       "</table>\n",
       "</div>"
      ],
      "text/plain": [
       "    product.id   price\n",
       "0   B001AAOZHI  289.99\n",
       "1   B001AAN4PW  289.99\n",
       "2   B0039MZBFK  117.57\n",
       "3   B003TO56FI   19.50\n",
       "4   B003UNL14S  199.63\n",
       "5   B004MF1E7M    4.47\n",
       "6   B0053UEMHO    4.47\n",
       "7   B0055UIJHG    4.47\n",
       "8   B005A0B6KS    4.47\n",
       "9   B007JUS330   19.59\n",
       "10  B00CGTLOVW  255.83\n",
       "11  B00CVTL3BS  183.21\n",
       "12  B00CX49V38  111.00\n",
       "13  B00GKINXTG   10.68\n",
       "14  B00GKINXUU   10.68"
      ]
     },
     "execution_count": 81,
     "metadata": {},
     "output_type": "execute_result"
    }
   ],
   "source": [
    "products=filter_products_df('smartpen')\n",
    "products"
   ]
  },
  {
   "cell_type": "markdown",
   "metadata": {},
   "source": [
    "**Task 5:** Plot the distribution of prices for products matching your query using the code provided in the following three cells."
   ]
  },
  {
   "cell_type": "code",
   "execution_count": 82,
   "metadata": {},
   "outputs": [],
   "source": [
    "# Set up R\n",
    "import rpy2.ipython\n",
    "%reload_ext rpy2.ipython"
   ]
  },
  {
   "cell_type": "code",
   "execution_count": 83,
   "metadata": {},
   "outputs": [
    {
     "data": {
      "image/png": "[encoded data removed]"
     },
     "metadata": {},
     "output_type": "display_data"
    }
   ],
   "source": [
    "%%R -i products\n",
    "library(ggplot2)\n",
    "ggplot(products, aes(x=price)) + geom_density() + theme_bw()"
   ]
  },
  {
   "cell_type": "code",
   "execution_count": 84,
   "metadata": {},
   "outputs": [],
   "source": [
    "%%R\n",
    "ggsave(\"price_histogram.jpeg\", width=6.5, height=3)"
   ]
  },
  {
   "cell_type": "markdown",
   "metadata": {},
   "source": [
    "## Filtering competitor reviews\n",
    "**Task 6:** Write a function called `filter_reviews` to help you find all the reviews that match the products which match your key phrase query.  This function should take a `products` argument and return a data frame with one review per row and three columns: `product.id`, `rating` (on the 5-star scale), and `review` (text).\n",
    "\n",
    "*Hints:*\n",
    "\n",
    "*1) There are lots of really inefficient ways to do this.  If running this function takes more than two minutes, you're doing something wrong.*\n",
    "\n",
    "*2) I recommend testing things out on data subsamples so that you're sure of the efficiency of your code.  (For example, you can return after the first matching review).*\n",
    "\n",
    "*3) Decoding the json on each line isn't really necessary; try doing it only for the reviews that match your product list.*\n",
    "\n",
    "*4) String manipulation with `split` is powerful.*"
   ]
  },
  {
   "cell_type": "code",
   "execution_count": 85,
   "metadata": {},
   "outputs": [],
   "source": [
    "from demjson import decode\n",
    "def filter_reviews(products):\n",
    "    df = pd.DataFrame({\"product.id\": [], \"rating\": [], \"review\": []})\n",
    "    f = open(\"/data/Assignment-2/reviews.json\")\n",
    "    prods = set(products[\"product.id\"])\n",
    "    for line in f:\n",
    "        id = line.split(':')[2].split(',')[0].strip().strip('\"')\n",
    "        if id in prods:\n",
    "            review = decode(line.strip())\n",
    "            d = pd.DataFrame({\"product.id\": [review['asin']], \\\n",
    "                              \"rating\": [review['overall']], \\\n",
    "                              \"review\": [review['reviewText']]})\n",
    "            df = df.append(d, ignore_index=True)\n",
    "    return df"
   ]
  },
  {
   "cell_type": "markdown",
   "metadata": {},
   "source": [
    "Now filter reviews by the produts of interest found in Task 4."
   ]
  },
  {
   "cell_type": "code",
   "execution_count": 86,
   "metadata": {},
   "outputs": [
    {
     "data": {
      "text/html": [
       "<div>\n",
       "<style scoped>\n",
       "    .dataframe tbody tr th:only-of-type {\n",
       "        vertical-align: middle;\n",
       "    }\n",
       "\n",
       "    .dataframe tbody tr th {\n",
       "        vertical-align: top;\n",
       "    }\n",
       "\n",
       "    .dataframe thead th {\n",
       "        text-align: right;\n",
       "    }\n",
       "</style>\n",
       "<table border=\"1\" class=\"dataframe\">\n",
       "  <thead>\n",
       "    <tr style=\"text-align: right;\">\n",
       "      <th></th>\n",
       "      <th>product.id</th>\n",
       "      <th>rating</th>\n",
       "      <th>review</th>\n",
       "    </tr>\n",
       "  </thead>\n",
       "  <tbody>\n",
       "    <tr>\n",
       "      <td>0</td>\n",
       "      <td>B001AAN4PW</td>\n",
       "      <td>5.0</td>\n",
       "      <td>I picked this up for the wife as I have one al...</td>\n",
       "    </tr>\n",
       "    <tr>\n",
       "      <td>1</td>\n",
       "      <td>B001AAN4PW</td>\n",
       "      <td>5.0</td>\n",
       "      <td>So I've been using my Pulse for about six mont...</td>\n",
       "    </tr>\n",
       "    <tr>\n",
       "      <td>2</td>\n",
       "      <td>B001AAN4PW</td>\n",
       "      <td>5.0</td>\n",
       "      <td>For college students unable or unwilling to lu...</td>\n",
       "    </tr>\n",
       "    <tr>\n",
       "      <td>3</td>\n",
       "      <td>B001AAN4PW</td>\n",
       "      <td>1.0</td>\n",
       "      <td>Please be advised that items from Livescribe h...</td>\n",
       "    </tr>\n",
       "    <tr>\n",
       "      <td>4</td>\n",
       "      <td>B001AAN4PW</td>\n",
       "      <td>2.0</td>\n",
       "      <td>When I run the desktop manager on my windows v...</td>\n",
       "    </tr>\n",
       "    <tr>\n",
       "      <td>...</td>\n",
       "      <td>...</td>\n",
       "      <td>...</td>\n",
       "      <td>...</td>\n",
       "    </tr>\n",
       "    <tr>\n",
       "      <td>339</td>\n",
       "      <td>B00GKINXUU</td>\n",
       "      <td>1.0</td>\n",
       "      <td>If you have to work in professional office env...</td>\n",
       "    </tr>\n",
       "    <tr>\n",
       "      <td>340</td>\n",
       "      <td>B00GKINXUU</td>\n",
       "      <td>1.0</td>\n",
       "      <td>I purchased an 8 count re-fill medium blue pac...</td>\n",
       "    </tr>\n",
       "    <tr>\n",
       "      <td>341</td>\n",
       "      <td>B00GKINXUU</td>\n",
       "      <td>2.0</td>\n",
       "      <td>I chose this rating because this item seems to...</td>\n",
       "    </tr>\n",
       "    <tr>\n",
       "      <td>342</td>\n",
       "      <td>B00GKINXUU</td>\n",
       "      <td>1.0</td>\n",
       "      <td>Have tried both black and blue ink refills fro...</td>\n",
       "    </tr>\n",
       "    <tr>\n",
       "      <td>343</td>\n",
       "      <td>B00GKINXUU</td>\n",
       "      <td>4.0</td>\n",
       "      <td>write smooth and I prefer the blue from the bl...</td>\n",
       "    </tr>\n",
       "  </tbody>\n",
       "</table>\n",
       "<p>344 rows × 3 columns</p>\n",
       "</div>"
      ],
      "text/plain": [
       "     product.id  rating                                             review\n",
       "0    B001AAN4PW     5.0  I picked this up for the wife as I have one al...\n",
       "1    B001AAN4PW     5.0  So I've been using my Pulse for about six mont...\n",
       "2    B001AAN4PW     5.0  For college students unable or unwilling to lu...\n",
       "3    B001AAN4PW     1.0  Please be advised that items from Livescribe h...\n",
       "4    B001AAN4PW     2.0  When I run the desktop manager on my windows v...\n",
       "..          ...     ...                                                ...\n",
       "339  B00GKINXUU     1.0  If you have to work in professional office env...\n",
       "340  B00GKINXUU     1.0  I purchased an 8 count re-fill medium blue pac...\n",
       "341  B00GKINXUU     2.0  I chose this rating because this item seems to...\n",
       "342  B00GKINXUU     1.0  Have tried both black and blue ink refills fro...\n",
       "343  B00GKINXUU     4.0  write smooth and I prefer the blue from the bl...\n",
       "\n",
       "[344 rows x 3 columns]"
      ]
     },
     "execution_count": 86,
     "metadata": {},
     "output_type": "execute_result"
    }
   ],
   "source": [
    "reviews = filter_reviews(products)\n",
    "reviews"
   ]
  },
  {
   "cell_type": "code",
   "execution_count": 91,
   "metadata": {},
   "outputs": [
    {
     "data": {
      "text/plain": [
       "pandas.core.frame.DataFrame"
      ]
     },
     "execution_count": 91,
     "metadata": {},
     "output_type": "execute_result"
    }
   ],
   "source": [
    "type(reviews)"
   ]
  },
  {
   "cell_type": "markdown",
   "metadata": {},
   "source": [
    "**Task 7:** Summarize the reviews into a data frame called `review_summaries` with three columns: `product.id`, `count` for the number of reviews, and `ave.rating` for the mean rating."
   ]
  },
  {
   "cell_type": "code",
   "execution_count": 98,
   "metadata": {},
   "outputs": [
    {
     "name": "stdout",
     "output_type": "stream",
     "text": [
      "    product.id  count  avg.rating\n",
      "0   B001AAN4PW    146         3.9\n",
      "1   B001AAOZHI     88         4.2\n",
      "2   B0039MZBFK      6         4.0\n",
      "3   B003TO56FI     38         3.5\n",
      "4   B003UNL14S     12         4.2\n",
      "5   B004MF1E7M      2         2.0\n",
      "6   B0053UEMHO      1         5.0\n",
      "7   B0055UIJHG      1         5.0\n",
      "8   B005A0B6KS      9         3.2\n",
      "9   B007JUS330     27         4.1\n",
      "10  B00CGTLOVW      1         1.0\n",
      "11  B00CVTL3BS      1         1.0\n",
      "12  B00CX49V38      1         1.0\n",
      "13  B00GKINXTG      5         3.6\n",
      "14  B00GKINXUU      6         2.3\n"
     ]
    }
   ],
   "source": [
    "review_summaries = reviews.groupby(['product.id']).agg(['count', 'mean']).round(1)\n",
    "review_summaries.columns = ['count', 'avg.rating']\n",
    "review_summaries_reset = review_summaries.reset_index()\n",
    "print(review_summaries_reset)"
   ]
  },
  {
   "cell_type": "code",
   "execution_count": 117,
   "metadata": {},
   "outputs": [
    {
     "name": "stdout",
     "output_type": "stream",
     "text": [
      "     product.id  count  avg.rating   price\n",
      "0    B003URNQ2Y      1         1.0   19.99\n",
      "1    B0040GZJC4      1         4.0    1.99\n",
      "2    B0040VUVOU      2         2.0    1.99\n",
      "3    B004GAHXVO    112         2.8    3.06\n",
      "4    B004HNEPHU    103         4.2   24.99\n",
      "..          ...    ...         ...     ...\n",
      "168  B00IR7ZD9Q      1         4.0  213.50\n",
      "169  B00ITHBVTA      1         5.0    5.99\n",
      "170  B00J2NB31G      5         5.0   19.99\n",
      "171  B00J7V2ZL0      5         3.6    6.99\n",
      "172  B00J7VYMW0      1         5.0    6.99\n",
      "\n",
      "[173 rows x 4 columns]\n"
     ]
    }
   ],
   "source": [
    "print (pd.merge(review_summaries,products, on='product.id'))"
   ]
  },
  {
   "cell_type": "markdown",
   "metadata": {},
   "source": [
    "**Task 8:** Merge `review_summaries` with `products` on the `product.id` variable."
   ]
  },
  {
   "cell_type": "code",
   "execution_count": 45,
   "metadata": {},
   "outputs": [
    {
     "data": {
      "text/html": [
       "<div>\n",
       "<style scoped>\n",
       "    .dataframe tbody tr th:only-of-type {\n",
       "        vertical-align: middle;\n",
       "    }\n",
       "\n",
       "    .dataframe tbody tr th {\n",
       "        vertical-align: top;\n",
       "    }\n",
       "\n",
       "    .dataframe thead th {\n",
       "        text-align: right;\n",
       "    }\n",
       "</style>\n",
       "<table border=\"1\" class=\"dataframe\">\n",
       "  <thead>\n",
       "    <tr style=\"text-align: right;\">\n",
       "      <th></th>\n",
       "      <th>product.id</th>\n",
       "      <th>price</th>\n",
       "      <th>count</th>\n",
       "      <th>avg.rating</th>\n",
       "    </tr>\n",
       "  </thead>\n",
       "  <tbody>\n",
       "    <tr>\n",
       "      <td>0</td>\n",
       "      <td>B003URNQ2Y</td>\n",
       "      <td>19.99</td>\n",
       "      <td>1</td>\n",
       "      <td>1.0</td>\n",
       "    </tr>\n",
       "    <tr>\n",
       "      <td>1</td>\n",
       "      <td>B0040GZJC4</td>\n",
       "      <td>1.99</td>\n",
       "      <td>1</td>\n",
       "      <td>4.0</td>\n",
       "    </tr>\n",
       "    <tr>\n",
       "      <td>2</td>\n",
       "      <td>B0040VUVOU</td>\n",
       "      <td>1.99</td>\n",
       "      <td>2</td>\n",
       "      <td>2.0</td>\n",
       "    </tr>\n",
       "    <tr>\n",
       "      <td>3</td>\n",
       "      <td>B004GAHXVO</td>\n",
       "      <td>3.06</td>\n",
       "      <td>112</td>\n",
       "      <td>2.8</td>\n",
       "    </tr>\n",
       "    <tr>\n",
       "      <td>4</td>\n",
       "      <td>B004HNEPHU</td>\n",
       "      <td>24.99</td>\n",
       "      <td>103</td>\n",
       "      <td>4.2</td>\n",
       "    </tr>\n",
       "    <tr>\n",
       "      <td>...</td>\n",
       "      <td>...</td>\n",
       "      <td>...</td>\n",
       "      <td>...</td>\n",
       "      <td>...</td>\n",
       "    </tr>\n",
       "    <tr>\n",
       "      <td>168</td>\n",
       "      <td>B00ITHBVTA</td>\n",
       "      <td>5.99</td>\n",
       "      <td>1</td>\n",
       "      <td>5.0</td>\n",
       "    </tr>\n",
       "    <tr>\n",
       "      <td>169</td>\n",
       "      <td>B00J2NB31G</td>\n",
       "      <td>19.99</td>\n",
       "      <td>5</td>\n",
       "      <td>5.0</td>\n",
       "    </tr>\n",
       "    <tr>\n",
       "      <td>170</td>\n",
       "      <td>B00J7VYMW0</td>\n",
       "      <td>6.99</td>\n",
       "      <td>1</td>\n",
       "      <td>5.0</td>\n",
       "    </tr>\n",
       "    <tr>\n",
       "      <td>171</td>\n",
       "      <td>B00J7V2ZL0</td>\n",
       "      <td>6.99</td>\n",
       "      <td>5</td>\n",
       "      <td>3.6</td>\n",
       "    </tr>\n",
       "    <tr>\n",
       "      <td>172</td>\n",
       "      <td>B00IR7ZD9Q</td>\n",
       "      <td>213.50</td>\n",
       "      <td>1</td>\n",
       "      <td>4.0</td>\n",
       "    </tr>\n",
       "  </tbody>\n",
       "</table>\n",
       "<p>173 rows × 4 columns</p>\n",
       "</div>"
      ],
      "text/plain": [
       "     product.id   price  count  avg.rating\n",
       "0    B003URNQ2Y   19.99      1         1.0\n",
       "1    B0040GZJC4    1.99      1         4.0\n",
       "2    B0040VUVOU    1.99      2         2.0\n",
       "3    B004GAHXVO    3.06    112         2.8\n",
       "4    B004HNEPHU   24.99    103         4.2\n",
       "..          ...     ...    ...         ...\n",
       "168  B00ITHBVTA    5.99      1         5.0\n",
       "169  B00J2NB31G   19.99      5         5.0\n",
       "170  B00J7VYMW0    6.99      1         5.0\n",
       "171  B00J7V2ZL0    6.99      5         3.6\n",
       "172  B00IR7ZD9Q  213.50      1         4.0\n",
       "\n",
       "[173 rows x 4 columns]"
      ]
     },
     "execution_count": 45,
     "metadata": {},
     "output_type": "execute_result"
    }
   ],
   "source": [
    "result = pd.merge(products,\n",
    "                 review_summaries[['count', 'avg.rating']],\n",
    "                 on='product.id')\n",
    "result"
   ]
  },
  {
   "cell_type": "markdown",
   "metadata": {},
   "source": [
    "**Task 9:** Using `ggplot`, Plot a scatterplot of the review summaries with price on the x-axis, the average rating on the y axis, and the size of each point being the number of reviews.  Add labels for the product ids, but fix the label size to be the same for all products.\n",
    "\n",
    "*Hints:*\n",
    "\n",
    "*1) You'll want to start the cell with `%%R -i review_summaries`.*\n",
    "\n",
    "*2) You may want to use `scale_size_continuous(range = c(0.1,10)) + geom_text(size=1)` or similar.*"
   ]
  },
  {
   "cell_type": "code",
   "execution_count": 43,
   "metadata": {},
   "outputs": [
    {
     "data": {
      "image/png": "[encoded data removed]"
     },
     "metadata": {},
     "output_type": "display_data"
    }
   ],
   "source": [
    "%%R -i result\n",
    "library(ggplot2)\n",
    "ggplot(result,aes(x=price,y=avg.rating, size = count))+\n",
    "       geom_point()+\n",
    "        scale_size_continuous(range = c(0.1,10)) + geom_text(label='product.id',size=1)"
   ]
  },
  {
   "cell_type": "code",
   "execution_count": null,
   "metadata": {},
   "outputs": [],
   "source": [
    "%%R -i review_summaries2\n",
    "library(ggplot2)\n",
    "ggplot(review_summaries2, aes(x=price, y=ave.rating, size = count, label = product.id)) + \n",
    "geom_point()  + scale_size_continuous(range = c(0.1, 10)) + geom_text(aes(label = product.id), size=1)"
   ]
  },
  {
   "cell_type": "code",
   "execution_count": null,
   "metadata": {},
   "outputs": [],
   "source": [
    "ggsave(\"reviews_summary.pdf\", width=6.5, height=4)"
   ]
  },
  {
   "cell_type": "markdown",
   "metadata": {},
   "source": [
    "**Task 10:** Write function `filter_products_by_id` that takes in a product identifier argument `idx` and returns returns the matching product information from `/data/Assignment-2/products.json`."
   ]
  },
  {
   "cell_type": "markdown",
   "metadata": {},
   "source": [
    "import demjson\n",
    "def filter_products_by_id(idx):\n",
    "    info=[]\n",
    "    for x in file:\n",
    "        products = demjson.decode(x)\n",
    "        if products['asin'] == idx:\n",
    "            info = info.append(x)\n",
    "    return info"
   ]
  },
  {
   "cell_type": "code",
   "execution_count": 78,
   "metadata": {},
   "outputs": [],
   "source": [
    "import demjson\n",
    "def filter_products_by_id(idx):\n",
    "    info = []\n",
    "    for lines in file:\n",
    "        products = demjson.decode(lines)\n",
    "        if idx==products['asin']:\n",
    "            info.append(lines)\n",
    "    return info"
   ]
  },
  {
   "cell_type": "code",
   "execution_count": 79,
   "metadata": {},
   "outputs": [
    {
     "name": "stdout",
     "output_type": "stream",
     "text": [
      "[\"{'asin': 'B003UNL14S', 'description': 'Capture Everything: The Echo smartpen records audio and links it what you write. Missed something Tap on your notes or drawings with the tip of your Pulse smartpen to hear what was said while you were writing.No Need to Lug the LaptopThe Echo smartpen automatically captures everything as you write and draw. Transfer your notes to your computer, organize them, and even search for words within your notes. Find what you want in seconds.Share Your NotesTransform your notes and audio into interactive movies. Upload your creations online for everyone to see, hear and play.What You Get. The Echo smartpen. 8 GB of memory (actual user available memory will be less). Livescribe Desktop software (download). 50 sheet dot paper lined notebook. Micro USB Cable. 2 Pen Caps. Black Fine Point Ink Cartridge Refill. Interactive Getting Started Guide. Tips & Tricks GuideWhat You Need. Windows XP 32-bit SP2 or higher, Windows Vista 32 or 64-bit operating system, or Intel Mac with Mac OS X 10.5.5 or newer. 600MHz CPU or higher. 300 MB minimum free disk space. Available USB port. Internet connectionThe Echo smartpen works only with Livescribe dot paper.', 'title': 'Livescribe APX-00006 8GB Echo Smartpen EFIGS Voice Recorder', 'price': 199.63, 'imUrl': 'http://ecx.images-amazon.com/images/I/310kjB2jEpL._SY300_.jpg', 'related': {'also_bought': ['B001AAOZV4', 'B001AALJ1I', 'B002M3HO0M', 'B003TO56EY', 'B003TO56F8', 'B007JUS330', 'B001AALJ2M', 'B001R4I74E', 'B00524DLZ0', 'B003TO56FI', 'B001AAOZNW', 'B009PK2T00', 'B004H0X3YE', 'B003RAPAKK', 'B004MF1E7M', 'B00BR0RJB0'], 'buy_after_viewing': ['B00524DLZ0', 'B001AAOZV4', 'B001AALJ1I', 'B009PK2T00']}, 'categories': [['Electronics', 'Computers & Accessories', 'Cables & Accessories', 'Input Devices', 'Digital Pens']]}\\n\"]\n"
     ]
    }
   ],
   "source": [
    "print(filter_products_by_id('B003UNL14S'))"
   ]
  },
  {
   "cell_type": "markdown",
   "metadata": {},
   "source": [
    "**Task 11:** Using the plot form Task 9, the `filter_products_by_id` function, and the `review_summaries` data frame, identify 3 competitor products and extract the relevant information required for the assignment write-up."
   ]
  },
  {
   "cell_type": "code",
   "execution_count": null,
   "metadata": {},
   "outputs": [],
   "source": []
  },
  {
   "cell_type": "markdown",
   "metadata": {},
   "source": [
    "**Task 12:** Filter the `reviews` data frame for each of the products so that you may read the corresponding reviews.\n",
    "\n",
    "*Hint: You may wish to save the filtered sets of reviews to separate files with the `to_csv` using the argument `sep='\\t'`.  Then you can download these file to make the reviews easier to read.  You can also read the reviews right here, too!*"
   ]
  },
  {
   "cell_type": "code",
   "execution_count": 94,
   "metadata": {},
   "outputs": [
    {
     "data": {
      "text/html": [
       "<div>\n",
       "<style scoped>\n",
       "    .dataframe tbody tr th:only-of-type {\n",
       "        vertical-align: middle;\n",
       "    }\n",
       "\n",
       "    .dataframe tbody tr th {\n",
       "        vertical-align: top;\n",
       "    }\n",
       "\n",
       "    .dataframe thead th {\n",
       "        text-align: right;\n",
       "    }\n",
       "</style>\n",
       "<table border=\"1\" class=\"dataframe\">\n",
       "  <thead>\n",
       "    <tr style=\"text-align: right;\">\n",
       "      <th></th>\n",
       "      <th>product.id</th>\n",
       "    </tr>\n",
       "  </thead>\n",
       "  <tbody>\n",
       "    <tr>\n",
       "      <td>0</td>\n",
       "      <td>B001AAN4PW</td>\n",
       "    </tr>\n",
       "    <tr>\n",
       "      <td>1</td>\n",
       "      <td>B003UNL14S</td>\n",
       "    </tr>\n",
       "    <tr>\n",
       "      <td>2</td>\n",
       "      <td>B0039MZBFK</td>\n",
       "    </tr>\n",
       "  </tbody>\n",
       "</table>\n",
       "</div>"
      ],
      "text/plain": [
       "   product.id\n",
       "0  B001AAN4PW\n",
       "1  B003UNL14S\n",
       "2  B0039MZBFK"
      ]
     },
     "execution_count": 94,
     "metadata": {},
     "output_type": "execute_result"
    }
   ],
   "source": [
    "data = {'product.id':['B001AAN4PW', 'B003UNL14S', 'B0039MZBFK']}\n",
    "competitors = pd.DataFrame(data)\n",
    "competitors"
   ]
  },
  {
   "cell_type": "code",
   "execution_count": 96,
   "metadata": {},
   "outputs": [],
   "source": [
    "Competitor = filter_reviews(competitors)\n",
    "Competitor.to_csv('competitors.csv',sep='\\t')"
   ]
  }
 ],
 "metadata": {
  "kernelspec": {
   "display_name": "Python 3",
   "language": "python",
   "name": "python3"
  },
  "language_info": {
   "codemirror_mode": {
    "name": "ipython",
    "version": 3
   },
   "file_extension": ".py",
   "mimetype": "text/x-python",
   "name": "python",
   "nbconvert_exporter": "python",
   "pygments_lexer": "ipython3",
   "version": "3.7.3"
  }
 },
 "nbformat": 4,
 "nbformat_minor": 4
}
